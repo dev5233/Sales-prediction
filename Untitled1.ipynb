{
 "cells": [
  {
   "cell_type": "code",
   "execution_count": null,
   "id": "dcc84347",
   "metadata": {},
   "outputs": [],
   "source": [
    "import numpy as np\n",
    "import pandas as pd\n",
    "import seaborn as sns\n",
    "import matplotlib.pyplot as plt\n",
    "from sklearn.model_selection import train_test_split\n",
    "from sklearn.linear_model import LinearRegression\n",
    "from sklearn.metrics import mean_squared_error, r2_score\n",
    "from sklearn.ensemble import RandomForestRegressor\n",
    "from datetime import datetime"
   ]
  },
  {
   "cell_type": "markdown",
   "id": "4adc1c60",
   "metadata": {},
   "source": []
  },
  {
   "cell_type": "code",
   "execution_count": null,
   "id": "19ea851d",
   "metadata": {},
   "outputs": [],
   "source": [
    "# Define constants\n",
    "TEST_SIZE = 0.3\n",
    "RANDOM_STATE = 42"
   ]
  },
  {
   "cell_type": "code",
   "execution_count": null,
   "id": "b0d448cf",
   "metadata": {},
   "outputs": [],
   "source": [
    "# Load data\n",
    "def load_data(file_path):\n",
    "    return pd.read_csv(file_path, encoding='latin-1')\n",
    "\n",
    "train_data = load_data(\"train2.csv\")\n",
    "test_data = load_data(\"test2.csv\")"
   ]
  },
  {
   "cell_type": "code",
   "execution_count": null,
   "id": "2aa57507",
   "metadata": {},
   "outputs": [],
   "source": [
    "# Combine data\n",
    "combined_data = pd.concat([train_data, test_data])"
   ]
  },
  {
   "cell_type": "code",
   "execution_count": null,
   "id": "f1a0f79d",
   "metadata": {},
   "outputs": [],
   "source": [
    "# Reset index\n",
    "combined_data.reset_index(drop=True, inplace=True)"
   ]
  },
  {
   "cell_type": "code",
   "execution_count": null,
   "id": "7fd07d45",
   "metadata": {},
   "outputs": [],
   "source": [
    "import pandas as pd\n",
    "\n",
    "# Load your datasets\n",
    "train_data = pd.read_csv(\"train2.csv\", encoding='latin-1')\n",
    "test_data = pd.read_csv(\"test2.csv\", encoding='latin-1')\n",
    "\n",
    "# Combine the datasets\n",
    "combined_data = pd.concat([train_data, test_data])\n",
    "\n",
    "# Display the columns in the dataset\n",
    "print(\"Columns in the dataset:\")\n",
    "print(combined_data.columns)\n",
    "\n",
    "# Identify unique entities based on the columns\n",
    "entities = set(combined_data.columns)  # Assuming each column represents an entity\n",
    "\n",
    "# Display the identified entities\n",
    "print(\"\\nIdentified entities in the dataset:\")\n",
    "for entity in entities:\n",
    "    print(entity)\n"
   ]
  },
  {
   "cell_type": "code",
   "execution_count": null,
   "id": "1f401c13",
   "metadata": {},
   "outputs": [],
   "source": [
    "# Display combined data\n",
    "print(combined_data.head())"
   ]
  },
  {
   "cell_type": "code",
   "execution_count": null,
   "id": "7c1a9a3c",
   "metadata": {},
   "outputs": [],
   "source": [
    "# Generate summary statistics\n",
    "print(combined_data.describe())"
   ]
  },
  {
   "cell_type": "code",
   "execution_count": null,
   "id": "82c3d617",
   "metadata": {},
   "outputs": [],
   "source": [
    "# Check for missing values\n",
    "print(combined_data.isnull().sum())"
   ]
  },
  {
   "cell_type": "code",
   "execution_count": null,
   "id": "b6f06ba5",
   "metadata": {},
   "outputs": [],
   "source": [
    "# Clean data\n",
    "def clean_data(data):\n",
    "    return data.dropna()\n",
    "\n",
    "combined_data_cleaned = clean_data(combined_data)"
   ]
  },
  {
   "cell_type": "code",
   "execution_count": null,
   "id": "c4d6b45d",
   "metadata": {},
   "outputs": [],
   "source": [
    "# Display cleaned data\n",
    "print(\"Cleaned dataset:\")\n",
    "print(combined_data_cleaned)"
   ]
  },
  {
   "cell_type": "code",
   "execution_count": null,
   "id": "ee199600",
   "metadata": {},
   "outputs": [],
   "source": [
    "# Analyze data\n",
    "def analyze_data(data):\n",
    "    print(data.info())\n",
    "    print(data.columns)\n",
    "    print(data.dtypes)\n",
    "\n",
    "analyze_data(combined_data_cleaned)"
   ]
  },
  {
   "cell_type": "code",
   "execution_count": null,
   "id": "e010f7f0",
   "metadata": {},
   "outputs": [],
   "source": [
    "# Preprocess data\n",
    "def preprocess_data(data):\n",
    "    numeric_columns = data.select_dtypes(include=['int', 'float']).columns\n",
    "    x = data[numeric_columns].drop('Total', axis=1)\n",
    "    y = data['Total']\n",
    "    return x, y\n",
    "\n",
    "x, y = preprocess_data(combined_data_cleaned)"
   ]
  },
  {
   "cell_type": "code",
   "execution_count": null,
   "id": "487db73d",
   "metadata": {},
   "outputs": [],
   "source": [
    "# Split data\n",
    "x_train, x_test, y_train, y_test = train_test_split(x, y, test_size=TEST_SIZE, random_state=RANDOM_STATE)"
   ]
  },
  {
   "cell_type": "code",
   "execution_count": null,
   "id": "828567d4",
   "metadata": {},
   "outputs": [],
   "source": [
    "# Print shapes\n",
    "print(\"x_train shape:\", x_train.shape)\n",
    "print(\"y_train shape:\", y_train.shape)\n",
    "print(\"x_test shape:\", x_test.shape)\n",
    "print(\"y_test shape:\", y_test.shape)"
   ]
  },
  {
   "cell_type": "code",
   "execution_count": null,
   "id": "8718e0c7",
   "metadata": {},
   "outputs": [],
   "source": [
    "# Train models\n",
    "def train_model(x_train, y_train, model):\n",
    "    model.fit(x_train, y_train)\n",
    "    return model\n",
    "\n",
    "linear_model = train_model(x_train, y_train, LinearRegression())\n",
    "random_forest_model = train_model(x_train, y_train, RandomForestRegressor(n_estimators=100, n_jobs=-1))\n"
   ]
  },
  {
   "cell_type": "code",
   "execution_count": null,
   "id": "c8ea5e84",
   "metadata": {},
   "outputs": [],
   "source": [
    "# Evaluate models\n",
    "def evaluate_model(model, x_test, y_test):\n",
    "    y_pred = model.predict(x_test)\n",
    "    mse = mean_squared_error(y_test, y_pred)\n",
    "    r2 = r2_score(y_test, y_pred)\n",
    "    return mse, r2\n",
    "\n",
    "mse_linear, r2_linear = evaluate_model(linear_model, x_test, y_test)\n",
    "mse_rf, r2_rf = evaluate_model(random_forest_model, x_test, y_test)\n"
   ]
  },
  {
   "cell_type": "code",
   "execution_count": null,
   "id": "3e35a953",
   "metadata": {},
   "outputs": [],
   "source": [
    "print(\"Linear Regression:\")\n",
    "print(\"RMSE:\", np.sqrt(mse_linear))\n",
    "print(\"Variance score:\", r2_linear)"
   ]
  },
  {
   "cell_type": "code",
   "execution_count": null,
   "id": "928e0f1d",
   "metadata": {},
   "outputs": [],
   "source": [
    "print(\"Random Forest Regression:\")\n",
    "print(\"RMSE:\", np.sqrt(mse_rf))\n",
    "print(\"Variance score:\", r2_rf)"
   ]
  },
  {
   "cell_type": "code",
   "execution_count": null,
   "id": "65a35a5e",
   "metadata": {},
   "outputs": [],
   "source": [
    "# Add graph visualization of products\n",
    "def visualize_products(data):\n",
    "    plt.figure(figsize=(10, 6))\n",
    "    sns.countplot(x='Product Line', data=data)\n",
    "    plt.title('Product Distribution')\n",
    "    plt.xlabel('Product')\n",
    "    plt.ylabel('Count')\n",
    "    plt.tight_layout()  # Add this to ensure the plot fits in the figure\n",
    "    plt.show()\n",
    "\n",
    "visualize_products(combined_data_cleaned)"
   ]
  },
  {
   "cell_type": "code",
   "execution_count": null,
   "id": "c49893f8",
   "metadata": {},
   "outputs": [],
   "source": [
    "# Add scatter plot of Total vs other features\n",
    "def visualize_total_vs_features(data):\n",
    "    numeric_columns = data.select_dtypes(include=['int', 'float']).columns\n",
    "    for col in numeric_columns:\n",
    "        if col != 'Total':\n",
    "            plt.figure(figsize=(8, 6))\n",
    "            plt.scatter(data[col], data['Total'])\n",
    "            plt.title(f'Total vs {col}')\n",
    "            plt.xlabel(col)\n",
    "            plt.ylabel('Total')\n",
    "            plt.tight_layout() \n",
    "            plt.show()\n",
    "\n",
    "visualize_total_vs_features(combined_data_cleaned)"
   ]
  },
  {
   "cell_type": "code",
   "execution_count": null,
   "id": "3d3132f1",
   "metadata": {},
   "outputs": [],
   "source": [
    "# Calculate total sales\n",
    "def calculate_top_20_products(data):\n",
    "    total_sales = data.groupby('Product Line')['Total'].sum()\n",
    "    top_20_products = total_sales.sort_values(ascending=False).head(20)\n",
    "    return top_20_products\n",
    "\n",
    "top_20_products = calculate_top_20_products(combined_data_cleaned)\n",
    "print(\"Top 20 Selling Products:\")\n",
    "print(top_20_products)"
   ]
  },
  {
   "cell_type": "code",
   "execution_count": null,
   "id": "35197bf0",
   "metadata": {},
   "outputs": [],
   "source": [
    "# Visualize top 20 selling products\n",
    "def visualize_top_20_products(top_20_products):\n",
    "    plt.figure(figsize=(12, 8))\n",
    "    top_20_products.plot(kind='bar')\n",
    "    plt.title('Top 20 Selling Products')\n",
    "    plt.xlabel('Product Line')\n",
    "    plt.ylabel('Total Sales')\n",
    "    plt.xticks(rotation=45, ha='right')  # Rotate x-axis labels for better readability\n",
    "    plt.tight_layout()\n",
    "    plt.show()\n",
    "\n",
    "visualize_top_20_products(top_20_products)"
   ]
  },
  {
   "cell_type": "markdown",
   "id": "95620551",
   "metadata": {},
   "source": [
    "# new dataset for prediction\n"
   ]
  },
  {
   "cell_type": "code",
   "execution_count": null,
   "id": "cc74f68a",
   "metadata": {},
   "outputs": [],
   "source": [
    "import pandas as pd\n",
    "import numpy as np\n",
    "\n",
    "# Define the number of samples\n",
    "num_samples = 200\n",
    "\n",
    "# Generate random dates within a specific range\n",
    "start_date = '2024-01-01'\n",
    "end_date = '2024-12-31'\n",
    "dates = pd.date_range(start=start_date, end=end_date, periods=num_samples)\n",
    "\n",
    "# Generate random data for other columns\n",
    "invoice_ids = np.random.randint(1000, 9999, size=num_samples)\n",
    "product_lines = np.random.choice(['Product A', 'Product B', 'Product C'], size=num_samples)\n",
    "item_types = np.random.choice(['Type X', 'Type Y', 'Type Z'], size=num_samples)\n",
    "base_units = np.random.choice(['Unit A', 'Unit B', 'Unit C'], size=num_samples)\n",
    "quantities = np.random.randint(1, 100, size=num_samples)\n",
    "unit_prices = np.random.uniform(10, 100, size=num_samples)\n",
    "tax_rates = 0.05  # Assuming a constant tax rate of 5%\n",
    "cogs = quantities * unit_prices\n",
    "taxes = cogs * tax_rates\n",
    "totals = cogs + taxes\n",
    "divisions = np.random.choice(['Division 1', 'Division 2', 'Division 3'], size=num_samples)\n",
    "\n",
    "# Create DataFrame\n",
    "prediction_data = pd.DataFrame({\n",
    "    'Date': dates,\n",
    "    'Invoice ID': invoice_ids,\n",
    "    'Product Line': product_lines,\n",
    "    'Item_Type': item_types,\n",
    "    'BASEUNIT': base_units,\n",
    "    'Quantity': quantities,\n",
    "    'Unit price': unit_prices,\n",
    "    'Tax 5%': taxes,\n",
    "    'cogs': cogs,\n",
    "    'Total': totals,\n",
    "    'DIVISION': divisions\n",
    "})\n",
    "\n",
    "# Print the first few rows of the dataframe\n",
    "print(prediction_data.head())\n"
   ]
  },
  {
   "cell_type": "code",
   "execution_count": null,
   "id": "2f309b7a",
   "metadata": {},
   "outputs": [],
   "source": [
    "# Load and preprocess new prediction data\n",
    "def load_and_preprocess_new_data(file_path):\n",
    "    new_data = load_data(file_path)  # Load new data\n",
    "    x_new, _ = preprocess_data(new_data)  # Preprocess new data\n",
    "    return x_new, new_data['Date']  # Return preprocessed data and dates\n",
    "\n",
    "# Define file path for new prediction data\n",
    "new_data_file_path = (\"prediction_data.csv\")\n",
    "\n",
    "# Load and preprocess new data\n",
    "x_new, dates = load_and_preprocess_new_data(new_data_file_path)\n",
    "\n",
    "# Make predictions using trained models\n",
    "linear_predictions = linear_model.predict(x_new)\n",
    "rf_predictions = random_forest_model.predict(x_new)\n",
    "\n",
    "# Print predictions with dates and expected amount of sales\n",
    "print(\"Predictions for Total Sales:\")\n",
    "print(\"Date\\t\\t\\tLinear Regression\\tRandom Forest\")\n",
    "for date, linear_pred, rf_pred in zip(dates, linear_predictions, rf_predictions):\n",
    "    print(f\"{date}\\t${linear_pred:.2f}\\t\\t\\t${rf_pred:.2f}\")\n"
   ]
  },
  {
   "cell_type": "code",
   "execution_count": null,
   "id": "0634ffc2",
   "metadata": {},
   "outputs": [],
   "source": []
  },
  {
   "cell_type": "code",
   "execution_count": null,
   "id": "821f70a0",
   "metadata": {},
   "outputs": [],
   "source": []
  },
  {
   "cell_type": "code",
   "execution_count": null,
   "id": "61917d35",
   "metadata": {},
   "outputs": [],
   "source": []
  },
  {
   "cell_type": "code",
   "execution_count": null,
   "id": "d3c1592f",
   "metadata": {},
   "outputs": [],
   "source": []
  },
  {
   "cell_type": "code",
   "execution_count": null,
   "id": "a1ecd1fb",
   "metadata": {},
   "outputs": [],
   "source": []
  },
  {
   "cell_type": "code",
   "execution_count": null,
   "id": "b5bb766a",
   "metadata": {},
   "outputs": [],
   "source": []
  }
 ],
 "metadata": {
  "kernelspec": {
   "display_name": "Python 3 (ipykernel)",
   "language": "python",
   "name": "python3"
  },
  "language_info": {
   "codemirror_mode": {
    "name": "ipython",
    "version": 3
   },
   "file_extension": ".py",
   "mimetype": "text/x-python",
   "name": "python",
   "nbconvert_exporter": "python",
   "pygments_lexer": "ipython3",
   "version": "3.11.5"
  }
 },
 "nbformat": 4,
 "nbformat_minor": 5
}
